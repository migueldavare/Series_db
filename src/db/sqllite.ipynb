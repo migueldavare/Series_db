{
 "cells": [
  {
   "cell_type": "code",
   "execution_count": null,
   "metadata": {},
   "outputs": [
    {
     "name": "stdout",
     "output_type": "stream",
     "text": [
      "Parquet file 'src\\data\\output_data.parquet' loaded successfully into a DataFrame.\n",
      "Connected to SQLite database: 'src\\db\\my_database.sqlite'.\n",
      "DataFrame written to table 'series_db' in SQLite database.\n",
      "SQLite connection closed.\n"
     ]
    }
   ],
   "source": [
    "import pandas as pd\n",
    "import sqlite3\n",
    "import os\n",
    "\n",
    "parquet_file_path = r'src\\data\\output_data.parquet'  \n",
    "sqlite_db_path = r'src\\db\\my_database.sqlite'  \n",
    "table_name = 'series_db'  \n",
    "\n",
    "try:\n",
    "    df = pd.read_parquet(parquet_file_path)\n",
    "    print(f\"Parquet file '{parquet_file_path}' loaded successfully into a DataFrame.\")\n",
    "\n",
    "    conn = sqlite3.connect(sqlite_db_path)\n",
    "    cursor = conn.cursor()\n",
    "    print(f\"Connected to SQLite database: '{sqlite_db_path}'.\")\n",
    "\n",
    "    df.to_sql(table_name, conn, if_exists='replace', index=False)\n",
    "\n",
    "    conn.commit()\n",
    "    print(f\"DataFrame written to table '{table_name}' in SQLite database.\")\n",
    "\n",
    "except FileNotFoundError:\n",
    "    print(f\"Error: Parquet file not found at '{parquet_file_path}'.\")\n",
    "except ImportError as e:\n",
    "    print(f\"Error: Missing required library for Parquet: {e}\")\n",
    "    print(\"Please install either 'pyarrow' or 'fastparquet': `pip install pyarrow` or `pip install fastparquet`\")\n",
    "except sqlite3.Error as e:\n",
    "    print(f\"Error interacting with SQLite database: {e}\")\n",
    "except Exception as e:\n",
    "    print(f\"An unexpected error occurred: {e}\")\n",
    "finally:\n",
    "    if 'conn' in locals() and conn:\n",
    "        conn.close()\n",
    "        print(\"SQLite connection closed.\")"
   ]
  },
  {
   "cell_type": "code",
   "execution_count": null,
   "metadata": {},
   "outputs": [],
   "source": []
  }
 ],
 "metadata": {
  "kernelspec": {
   "display_name": ".venv",
   "language": "python",
   "name": "python3"
  },
  "language_info": {
   "codemirror_mode": {
    "name": "ipython",
    "version": 3
   },
   "file_extension": ".py",
   "mimetype": "text/x-python",
   "name": "python",
   "nbconvert_exporter": "python",
   "pygments_lexer": "ipython3",
   "version": "3.9.12"
  }
 },
 "nbformat": 4,
 "nbformat_minor": 2
}
